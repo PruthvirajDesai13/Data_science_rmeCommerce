{
 "cells": [
  {
   "cell_type": "markdown",
   "id": "8b472652",
   "metadata": {},
   "source": [
    "## IMPORTING LIBRARIES"
   ]
  },
  {
   "cell_type": "code",
   "execution_count": 1,
   "id": "be2b3800",
   "metadata": {},
   "outputs": [],
   "source": [
    "import warnings\n",
    "import numpy as np\n",
    "import pandas as pd\n",
    "import warnings\n",
    "warnings.filterwarnings(\"ignore\", category=FutureWarning)"
   ]
  },
  {
   "cell_type": "markdown",
   "id": "472a6547",
   "metadata": {},
   "source": [
    "## Loading Data With Pandas\n"
   ]
  },
  {
   "cell_type": "code",
   "execution_count": 2,
   "id": "176a8b1b",
   "metadata": {},
   "outputs": [],
   "source": [
    "customers_df    = pd.read_csv(r\"C:\\Users\\Pruthviraj\\Desktop\\Zeotap\\Customers.csv\")\n",
    "\n",
    "products_df     = pd.read_csv(r\"C:\\Users\\Pruthviraj\\Desktop\\Zeotap\\Products.csv\")\n",
    "\n",
    "transactions_df =  pd.read_csv(r\"C:\\Users\\Pruthviraj\\Desktop\\Zeotap\\Transactions.csv\")"
   ]
  },
  {
   "cell_type": "code",
   "execution_count": 3,
   "id": "fad6db15",
   "metadata": {},
   "outputs": [
    {
     "data": {
      "text/html": [
       "<div>\n",
       "<style scoped>\n",
       "    .dataframe tbody tr th:only-of-type {\n",
       "        vertical-align: middle;\n",
       "    }\n",
       "\n",
       "    .dataframe tbody tr th {\n",
       "        vertical-align: top;\n",
       "    }\n",
       "\n",
       "    .dataframe thead th {\n",
       "        text-align: right;\n",
       "    }\n",
       "</style>\n",
       "<table border=\"1\" class=\"dataframe\">\n",
       "  <thead>\n",
       "    <tr style=\"text-align: right;\">\n",
       "      <th></th>\n",
       "      <th>CustomerID</th>\n",
       "      <th>CustomerName</th>\n",
       "      <th>Region</th>\n",
       "      <th>SignupDate</th>\n",
       "    </tr>\n",
       "  </thead>\n",
       "  <tbody>\n",
       "    <tr>\n",
       "      <th>0</th>\n",
       "      <td>C0001</td>\n",
       "      <td>Lawrence Carroll</td>\n",
       "      <td>South America</td>\n",
       "      <td>2022-07-10</td>\n",
       "    </tr>\n",
       "    <tr>\n",
       "      <th>1</th>\n",
       "      <td>C0002</td>\n",
       "      <td>Elizabeth Lutz</td>\n",
       "      <td>Asia</td>\n",
       "      <td>2022-02-13</td>\n",
       "    </tr>\n",
       "    <tr>\n",
       "      <th>2</th>\n",
       "      <td>C0003</td>\n",
       "      <td>Michael Rivera</td>\n",
       "      <td>South America</td>\n",
       "      <td>2024-03-07</td>\n",
       "    </tr>\n",
       "  </tbody>\n",
       "</table>\n",
       "</div>"
      ],
      "text/plain": [
       "  CustomerID      CustomerName         Region  SignupDate\n",
       "0      C0001  Lawrence Carroll  South America  2022-07-10\n",
       "1      C0002    Elizabeth Lutz           Asia  2022-02-13\n",
       "2      C0003    Michael Rivera  South America  2024-03-07"
      ]
     },
     "execution_count": 3,
     "metadata": {},
     "output_type": "execute_result"
    }
   ],
   "source": [
    "customers_df.head(3)"
   ]
  },
  {
   "cell_type": "code",
   "execution_count": 4,
   "id": "172403aa",
   "metadata": {},
   "outputs": [
    {
     "data": {
      "text/html": [
       "<div>\n",
       "<style scoped>\n",
       "    .dataframe tbody tr th:only-of-type {\n",
       "        vertical-align: middle;\n",
       "    }\n",
       "\n",
       "    .dataframe tbody tr th {\n",
       "        vertical-align: top;\n",
       "    }\n",
       "\n",
       "    .dataframe thead th {\n",
       "        text-align: right;\n",
       "    }\n",
       "</style>\n",
       "<table border=\"1\" class=\"dataframe\">\n",
       "  <thead>\n",
       "    <tr style=\"text-align: right;\">\n",
       "      <th></th>\n",
       "      <th>ProductID</th>\n",
       "      <th>ProductName</th>\n",
       "      <th>Category</th>\n",
       "      <th>Price</th>\n",
       "    </tr>\n",
       "  </thead>\n",
       "  <tbody>\n",
       "    <tr>\n",
       "      <th>0</th>\n",
       "      <td>P001</td>\n",
       "      <td>ActiveWear Biography</td>\n",
       "      <td>Books</td>\n",
       "      <td>169.30</td>\n",
       "    </tr>\n",
       "    <tr>\n",
       "      <th>1</th>\n",
       "      <td>P002</td>\n",
       "      <td>ActiveWear Smartwatch</td>\n",
       "      <td>Electronics</td>\n",
       "      <td>346.30</td>\n",
       "    </tr>\n",
       "    <tr>\n",
       "      <th>2</th>\n",
       "      <td>P003</td>\n",
       "      <td>ComfortLiving Biography</td>\n",
       "      <td>Books</td>\n",
       "      <td>44.12</td>\n",
       "    </tr>\n",
       "  </tbody>\n",
       "</table>\n",
       "</div>"
      ],
      "text/plain": [
       "  ProductID              ProductName     Category   Price\n",
       "0      P001     ActiveWear Biography        Books  169.30\n",
       "1      P002    ActiveWear Smartwatch  Electronics  346.30\n",
       "2      P003  ComfortLiving Biography        Books   44.12"
      ]
     },
     "execution_count": 4,
     "metadata": {},
     "output_type": "execute_result"
    }
   ],
   "source": [
    "products_df.head(3)"
   ]
  },
  {
   "cell_type": "code",
   "execution_count": 5,
   "id": "19fe42d4",
   "metadata": {},
   "outputs": [
    {
     "data": {
      "text/html": [
       "<div>\n",
       "<style scoped>\n",
       "    .dataframe tbody tr th:only-of-type {\n",
       "        vertical-align: middle;\n",
       "    }\n",
       "\n",
       "    .dataframe tbody tr th {\n",
       "        vertical-align: top;\n",
       "    }\n",
       "\n",
       "    .dataframe thead th {\n",
       "        text-align: right;\n",
       "    }\n",
       "</style>\n",
       "<table border=\"1\" class=\"dataframe\">\n",
       "  <thead>\n",
       "    <tr style=\"text-align: right;\">\n",
       "      <th></th>\n",
       "      <th>TransactionID</th>\n",
       "      <th>CustomerID</th>\n",
       "      <th>ProductID</th>\n",
       "      <th>TransactionDate</th>\n",
       "      <th>Quantity</th>\n",
       "      <th>TotalValue</th>\n",
       "      <th>Price</th>\n",
       "    </tr>\n",
       "  </thead>\n",
       "  <tbody>\n",
       "    <tr>\n",
       "      <th>0</th>\n",
       "      <td>T00001</td>\n",
       "      <td>C0199</td>\n",
       "      <td>P067</td>\n",
       "      <td>2024-08-25 12:38:23</td>\n",
       "      <td>1</td>\n",
       "      <td>300.68</td>\n",
       "      <td>300.68</td>\n",
       "    </tr>\n",
       "    <tr>\n",
       "      <th>1</th>\n",
       "      <td>T00112</td>\n",
       "      <td>C0146</td>\n",
       "      <td>P067</td>\n",
       "      <td>2024-05-27 22:23:54</td>\n",
       "      <td>1</td>\n",
       "      <td>300.68</td>\n",
       "      <td>300.68</td>\n",
       "    </tr>\n",
       "    <tr>\n",
       "      <th>2</th>\n",
       "      <td>T00166</td>\n",
       "      <td>C0127</td>\n",
       "      <td>P067</td>\n",
       "      <td>2024-04-25 07:38:55</td>\n",
       "      <td>1</td>\n",
       "      <td>300.68</td>\n",
       "      <td>300.68</td>\n",
       "    </tr>\n",
       "    <tr>\n",
       "      <th>3</th>\n",
       "      <td>T00272</td>\n",
       "      <td>C0087</td>\n",
       "      <td>P067</td>\n",
       "      <td>2024-03-26 22:55:37</td>\n",
       "      <td>2</td>\n",
       "      <td>601.36</td>\n",
       "      <td>300.68</td>\n",
       "    </tr>\n",
       "    <tr>\n",
       "      <th>4</th>\n",
       "      <td>T00363</td>\n",
       "      <td>C0070</td>\n",
       "      <td>P067</td>\n",
       "      <td>2024-03-21 15:10:10</td>\n",
       "      <td>3</td>\n",
       "      <td>902.04</td>\n",
       "      <td>300.68</td>\n",
       "    </tr>\n",
       "  </tbody>\n",
       "</table>\n",
       "</div>"
      ],
      "text/plain": [
       "  TransactionID CustomerID ProductID      TransactionDate  Quantity  \\\n",
       "0        T00001      C0199      P067  2024-08-25 12:38:23         1   \n",
       "1        T00112      C0146      P067  2024-05-27 22:23:54         1   \n",
       "2        T00166      C0127      P067  2024-04-25 07:38:55         1   \n",
       "3        T00272      C0087      P067  2024-03-26 22:55:37         2   \n",
       "4        T00363      C0070      P067  2024-03-21 15:10:10         3   \n",
       "\n",
       "   TotalValue   Price  \n",
       "0      300.68  300.68  \n",
       "1      300.68  300.68  \n",
       "2      300.68  300.68  \n",
       "3      601.36  300.68  \n",
       "4      902.04  300.68  "
      ]
     },
     "execution_count": 5,
     "metadata": {},
     "output_type": "execute_result"
    }
   ],
   "source": [
    "transactions_df.head()"
   ]
  },
  {
   "cell_type": "markdown",
   "id": "da93f653",
   "metadata": {},
   "source": [
    "## Data Preprocessing\n",
    "\n",
    "**Merge Customer and Product Information:**\n",
    "\n",
    "First, combine the customers_df, products_df, and transactions_df into a single data frame so that each transaction contains both customer and product details."
   ]
  },
  {
   "cell_type": "code",
   "execution_count": 6,
   "id": "cc283ff0",
   "metadata": {},
   "outputs": [],
   "source": [
    "transactions_with_customer = pd.merge(transactions_df, customers_df, on='CustomerID', how='left')\n",
    "transactions_with_all_info = pd.merge(transactions_with_customer, products_df, on='ProductID', how='left')"
   ]
  },
  {
   "cell_type": "markdown",
   "id": "ec032780",
   "metadata": {},
   "source": [
    "## Feature Engineering:\n",
    "\n",
    "Create customer profiles based on their transaction history. For example:\n",
    "\n",
    "Total spend per customer.\n",
    "\n",
    "Most purchased product category.\n",
    "\n",
    "Frequency of purchases.\n",
    "\n",
    "Recency of last purchase."
   ]
  },
  {
   "cell_type": "code",
   "execution_count": 11,
   "id": "3b93a068",
   "metadata": {},
   "outputs": [],
   "source": [
    "customer_features = transactions_with_all_info.groupby('CustomerID').agg(\n",
    "    total_spend=('TotalValue', 'sum'),\n",
    "    purchase_frequency=('TransactionID', 'count'),\n",
    "    recency=('TransactionDate', 'max')\n",
    ").reset_index()\n",
    "\n",
    "\n",
    "\n",
    "# Convert recency to days since last purchase\n",
    "customer_features['recency'] = (pd.to_datetime('today') - pd.to_datetime(customer_features['recency'])).dt.days\n"
   ]
  },
  {
   "cell_type": "markdown",
   "id": "4f4e713a",
   "metadata": {},
   "source": [
    "## Normalize the features"
   ]
  },
  {
   "cell_type": "code",
   "execution_count": 14,
   "id": "ccda66fc",
   "metadata": {},
   "outputs": [],
   "source": [
    "from sklearn.preprocessing import MinMaxScaler\n",
    "\n",
    "scaler = MinMaxScaler()\n",
    "customer_features[['total_spend', 'purchase_frequency', 'recency']] = scaler.fit_transform(customer_features[['total_spend', 'purchase_frequency', 'recency']])"
   ]
  },
  {
   "cell_type": "markdown",
   "id": "3431fa2a",
   "metadata": {},
   "source": [
    "## Similarity Calculation on Customer\n",
    "\n",
    "**Define Similarity Metrics:**\n",
    "\n",
    "\n",
    "Use cosine similarity or Euclidean distance to calculate the similarity between customers based on their profiles (total spend, purchase frequency, recency)."
   ]
  },
  {
   "cell_type": "code",
   "execution_count": 15,
   "id": "fdc666e8",
   "metadata": {},
   "outputs": [],
   "source": [
    "from sklearn.metrics.pairwise import cosine_similarity\n",
    "\n",
    "# Calculate similarity between customers\n",
    "similarity_matrix = cosine_similarity(customer_features[['total_spend', 'purchase_frequency', 'recency']])\n"
   ]
  },
  {
   "cell_type": "markdown",
   "id": "01cbaffa",
   "metadata": {},
   "source": [
    "## Generate Similarity Scores:\n",
    "\n",
    " each customer (C0001 to C0020), find the top 3 most similar customers based on their similarity score"
   ]
  },
  {
   "cell_type": "code",
   "execution_count": 16,
   "id": "673bc1c2",
   "metadata": {},
   "outputs": [],
   "source": [
    "import numpy as np\n",
    "\n",
    "top_3_similar_customers = {}\n",
    "\n",
    "for idx, customer_id in enumerate(customer_features['CustomerID'].head(20)):\n",
    "    similarity_scores = similarity_matrix[idx]\n",
    "    similar_customers = np.argsort(similarity_scores)[::-1][1:4]  # Here I Skip the customer itself (index 0) for example i-0 not calculated j-0 so\n",
    "    top_3_similar_customers[customer_id] = [\n",
    "        (customer_features['CustomerID'].iloc[sim_idx], similarity_scores[sim_idx])\n",
    "        for sim_idx in similar_customers\n",
    "    ]\n"
   ]
  },
  {
   "cell_type": "markdown",
   "id": "20c9a51e",
   "metadata": {},
   "source": [
    "## Create the Lookalike.csv"
   ]
  },
  {
   "cell_type": "code",
   "execution_count": 18,
   "id": "b4f1f010",
   "metadata": {},
   "outputs": [],
   "source": [
    "lookalike_data = []\n",
    "\n",
    "for customer_id, similar_customers in top_3_similar_customers.items():\n",
    "    for sim_customer_id, score in similar_customers:\n",
    "        lookalike_data.append([customer_id, sim_customer_id, score])\n",
    "\n",
    "lookalike_df = pd.DataFrame(lookalike_data, columns=['CustomerID', 'LookalikeCustomerID', 'SimilarityScore'])\n",
    "\n",
    "# Save to CSV\n",
    "lookalike_df.to_csv('Pruthviraj_Desai_Lookalike.csv', index=False)\n"
   ]
  },
  {
   "cell_type": "code",
   "execution_count": null,
   "id": "b9319d5f",
   "metadata": {},
   "outputs": [],
   "source": []
  }
 ],
 "metadata": {
  "kernelspec": {
   "display_name": "Python 3 (ipykernel)",
   "language": "python",
   "name": "python3"
  },
  "language_info": {
   "codemirror_mode": {
    "name": "ipython",
    "version": 3
   },
   "file_extension": ".py",
   "mimetype": "text/x-python",
   "name": "python",
   "nbconvert_exporter": "python",
   "pygments_lexer": "ipython3",
   "version": "3.9.13"
  }
 },
 "nbformat": 4,
 "nbformat_minor": 5
}
